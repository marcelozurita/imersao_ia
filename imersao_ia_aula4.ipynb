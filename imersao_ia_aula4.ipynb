{
  "nbformat": 4,
  "nbformat_minor": 0,
  "metadata": {
    "colab": {
      "provenance": [],
      "authorship_tag": "ABX9TyPO3YSlqUL5thSHkzgieOt7",
      "include_colab_link": true
    },
    "kernelspec": {
      "name": "python3",
      "display_name": "Python 3"
    },
    "language_info": {
      "name": "python"
    }
  },
  "cells": [
    {
      "cell_type": "markdown",
      "metadata": {
        "id": "view-in-github",
        "colab_type": "text"
      },
      "source": [
        "<a href=\"https://colab.research.google.com/github/marcelozurita/imersao_ia/blob/main/imersao_ia_aula4.ipynb\" target=\"_parent\"><img src=\"https://colab.research.google.com/assets/colab-badge.svg\" alt=\"Open In Colab\"/></a>"
      ]
    },
    {
      "cell_type": "markdown",
      "source": [
        "  # Imersão IA - Aula 4\n",
        "Primeiros testes de programação usando a API Google Gemini"
      ],
      "metadata": {
        "id": "T-brcpdp57xX"
      }
    },
    {
      "cell_type": "markdown",
      "source": [
        "Instalando SDK do Google Generative AI"
      ],
      "metadata": {
        "id": "JgchMj6AAmJs"
      }
    },
    {
      "cell_type": "code",
      "source": [
        "!pip install -q -U google-generativeai"
      ],
      "metadata": {
        "id": "CkIsSf3kAPrn"
      },
      "execution_count": 1,
      "outputs": []
    },
    {
      "cell_type": "markdown",
      "source": [
        "Importando bibliotecas e configurando api do Google"
      ],
      "metadata": {
        "id": "C0QV88RMBBjN"
      }
    },
    {
      "cell_type": "code",
      "execution_count": 2,
      "metadata": {
        "id": "3yAa8bFR52jH"
      },
      "outputs": [],
      "source": [
        "import google.generativeai as genai\n",
        "from google.colab import userdata\n",
        "\n",
        "GOOGLE_API_KEY=userdata.get('GOOGLE_API_KEY')\n",
        "genai.configure(api_key=GOOGLE_API_KEY)"
      ]
    },
    {
      "cell_type": "markdown",
      "source": [
        "Listar modelos disponíveis capazes de gerar conteúdo"
      ],
      "metadata": {
        "id": "-hJIdDnWBscW"
      }
    },
    {
      "cell_type": "code",
      "source": [
        "for model in genai.list_models():\n",
        "  if 'generateContent' in model.supported_generation_methods :\n",
        "    print(model.name)"
      ],
      "metadata": {
        "colab": {
          "base_uri": "https://localhost:8080/",
          "height": 138
        },
        "id": "JTF4frotBL3R",
        "outputId": "a73ecb7f-66e8-4d8f-a3c4-e76c737cc944"
      },
      "execution_count": 3,
      "outputs": [
        {
          "output_type": "stream",
          "name": "stdout",
          "text": [
            "models/gemini-1.0-pro\n",
            "models/gemini-1.0-pro-001\n",
            "models/gemini-1.0-pro-latest\n",
            "models/gemini-1.0-pro-vision-latest\n",
            "models/gemini-1.5-pro-latest\n",
            "models/gemini-pro\n",
            "models/gemini-pro-vision\n"
          ]
        }
      ]
    },
    {
      "cell_type": "markdown",
      "source": [
        "Definindo configurações para o modelo"
      ],
      "metadata": {
        "id": "snWc7S7iDYsS"
      }
    },
    {
      "cell_type": "code",
      "source": [
        "generation_config = {\n",
        "    'candidate_count': 1,\n",
        "    'temperature': 0.5,\n",
        "\n",
        "}"
      ],
      "metadata": {
        "id": "-bBW_meXCd6W"
      },
      "execution_count": 5,
      "outputs": []
    },
    {
      "cell_type": "code",
      "source": [
        "safety_settings = {\n",
        "    'HARASSMENT': 'BLOCK_NONE',\n",
        "    'HATE': 'BLOCK_NONE',\n",
        "    'SEXUAL': 'BLOCK_NONE',\n",
        "    'DANGEROUS': 'BLOCK_NONE',\n",
        "}"
      ],
      "metadata": {
        "id": "Fk87u51hCwSR"
      },
      "execution_count": 6,
      "outputs": []
    },
    {
      "cell_type": "markdown",
      "source": [
        "Inicializando o modelo"
      ],
      "metadata": {
        "id": "4A06ef7VDUL9"
      }
    },
    {
      "cell_type": "code",
      "source": [
        "model = genai.GenerativeModel(model_name='gemini-1.0-pro',\n",
        "                              generation_config=generation_config,\n",
        "                              safety_settings=safety_settings\n",
        "                          )"
      ],
      "metadata": {
        "id": "8VyJVkM7CiSl"
      },
      "execution_count": 7,
      "outputs": []
    },
    {
      "cell_type": "code",
      "source": [
        "response = model.generate_content(\"Sugira um roteiro de 10 perguntas para uma entrevista com uma astrobióloga que desenvolveu um método revolucionário para plantar legumes em solo marciano, com especial sucesso na plantação de tomates. A entrevista é voltada para um público leigo.\")\n",
        "print(response.text)"
      ],
      "metadata": {
        "colab": {
          "base_uri": "https://localhost:8080/",
          "height": 575
        },
        "id": "iwOMtgmlEM2g",
        "outputId": "ecfc4041-3935-4694-92c4-52df7286e32a"
      },
      "execution_count": 8,
      "outputs": [
        {
          "output_type": "stream",
          "name": "stdout",
          "text": [
            "**Roteiro de Entrevista com uma Astrobióloga**\n",
            "\n",
            "**1. Introdução:**\n",
            "* Apresente a astrobióloga e seu trabalho inovador.\n",
            "\n",
            "**2. O Desafio de Plantar em Solo Marciano:**\n",
            "* Discuta as condições únicas do solo marciano e os desafios que elas representam para o cultivo de plantas.\n",
            "\n",
            "**3. O Método Revolucionário:**\n",
            "* Explique o método desenvolvido pela astrobióloga para superar os desafios do solo marciano.\n",
            "\n",
            "**4. O Sucesso com Tomates:**\n",
            "* Descreva o sucesso específico alcançado no cultivo de tomates em solo marciano usando este método.\n",
            "\n",
            "**5. Benefícios para a Exploração Espacial:**\n",
            "* Explore como esse método pode beneficiar as futuras missões espaciais e a possibilidade de estabelecer colônias humanas em Marte.\n",
            "\n",
            "**6. Implicações para a Agricultura Terrestre:**\n",
            "* Discuta as possíveis aplicações deste método para melhorar a agricultura na Terra, como em solos degradados ou condições climáticas adversas.\n",
            "\n",
            "**7. O Futuro da Astrobiologia:**\n",
            "* Pergunte sobre as direções futuras da pesquisa em astrobiologia e como elas podem moldar nossa compreensão da vida no universo.\n",
            "\n",
            "**8. Inspiração para Jovens Cientistas:**\n",
            "* Peça à astrobióloga para compartilhar sua história pessoal e como ela se tornou interessada em astrobiologia.\n",
            "\n",
            "**9. Desafios e Recompensas:**\n",
            "* Explore os desafios e recompensas de ser uma astrobióloga e como ela superou obstáculos em sua carreira.\n",
            "\n",
            "**10. Conclusão:**\n",
            "* Agradeça à astrobióloga por sua contribuição e destaque o impacto de seu trabalho na exploração espacial e na compreensão da vida no universo.\n"
          ]
        }
      ]
    },
    {
      "cell_type": "code",
      "source": [
        "chat = model.start_chat(history=[])"
      ],
      "metadata": {
        "id": "UvP4UXnhHz41"
      },
      "execution_count": 9,
      "outputs": []
    },
    {
      "cell_type": "code",
      "source": [
        "prompt = input(\"You: \")\n",
        "\n",
        "while prompt != '' :\n",
        "  response = chat.send_message(prompt)\n",
        "  print('Chat:', response.text, '\\n')\n",
        "  prompt = input(\"You: \")"
      ],
      "metadata": {
        "colab": {
          "base_uri": "https://localhost:8080/",
          "height": 208
        },
        "id": "U6U9Dp4QIDjI",
        "outputId": "ac1ff084-2823-4593-ba64-989d11a5f0e0"
      },
      "execution_count": 12,
      "outputs": [
        {
          "name": "stdout",
          "output_type": "stream",
          "text": [
            "You: Qual a idade do Universo?\n",
            "You: Qual a idade do Universo? \n",
            "\n",
            "Chat: 13,8 bilhões de anos \n",
            "\n",
            "You: E da Terra?\n",
            "You: E da Terra? \n",
            "\n",
            "Chat: 4,54 bilhões de anos \n",
            "\n",
            "You: \n"
          ]
        }
      ]
    },
    {
      "cell_type": "markdown",
      "source": [
        "# Projeto - Tema livre\n",
        "\n",
        "1.   Precisa utilizar as ferramentas e conceitos abordados (usar api key)\n",
        "2.   Pode mandar quantos projetos quiser\n",
        "3.   Projetos até sábado, 23:59\n",
        "4.   Critérios de avaliação:\n",
        "    - Utilidade\n",
        "    - Criatividade\n",
        "    - Eficácia\n",
        "    - Apresentação\n",
        "\n",
        "Live de encerramento: Segunda, 18:30\n",
        "\n",
        "\n",
        "\n",
        "no curso\n"
      ],
      "metadata": {
        "id": "21nMme9-KlqG"
      }
    }
  ]
}